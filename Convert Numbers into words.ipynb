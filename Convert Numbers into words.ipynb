{
 "cells": [
  {
   "cell_type": "markdown",
   "id": "00f33e76",
   "metadata": {},
   "source": [
    "# Convert numbers into words"
   ]
  },
  {
   "cell_type": "code",
   "execution_count": 11,
   "id": "89680ec0",
   "metadata": {},
   "outputs": [
    {
     "name": "stdout",
     "output_type": "stream",
     "text": [
      "Number To Words Converter:-\n",
      "\n",
      "Enter Number: 475\n",
      "\n",
      "\n",
      "》 Four Hundred and Seventy-Five.\n"
     ]
    }
   ],
   "source": [
    "#Defining a function\n",
    "\n",
    "y=int(input(\"Number To Words Converter:-\\n\\nEnter Number: \")) \n",
    "x,tyu=str(y),print(\"\\n\") \n",
    "import sys \n",
    "if int(x)>10**100 or int(x)<0:sys.exit(\"Range Is From Zero To One Googol!\") \n",
    "def num1wrd(x,w={0:\"\",1:\"One\",2:\"Two\",3:\"Three\",4:\"Four\",5:\"Five\",6:\"Six\",7:\"Seven\",8:\"Eight\",9:\"Nine\"},f={2:\"Twen\",3:\"Thir\",4:\"For\",5:\"Fif\",6:\"Six\",7:\"Seven\",8:\"Eigh\",9:\"Nine\"},t={11:\"Eleven\",12:\"Twelve\",13:\"Thirteen\",14:\"Fourteen\",15:\"Fifteen\",16:\"Sixteen\",17:\"Seventeen\",18:\"Eighteen\",19:\"Nineteen\"}): \n",
    "    if len(x)==1:return(w[int(x)]) \n",
    "    elif len(x)==2 and x[0]==\"0\" and x[1]==\"0\":return(\"\") \n",
    "    elif len(x)==2 and x[0]==\"0\":return (w[int(x[1])]) \n",
    "    elif len(x)==2: \n",
    "        if int(x) in range(11,20):return(t[int(x)]) \n",
    "        elif int(x[1])==0: \n",
    "            if int(x)==10:return(\"Ten\") \n",
    "            else:return(f[int(x[0])]+\"ty\") \n",
    "        else:return(f[int(x[0])]+\"ty\"+\"-\"+w[int(x[1])]) \n",
    "def hun_num(x,w1={0:\"\",1:\"One\",2:\"Two\",3:\"Three\",4:\"Four\",5:\"Five\",6:\"Six\",7:\"Seven\",8:\"Eight\",9:\"Nine\"}): \n",
    "    if len(x)==3 and x[0]!=\"0\" and x[1]==\"0\" and x[2]==\"0\": return(w1[int(x[0])]+\" \"+\"Hundred\") \n",
    "    elif len(x)==3 and x[0]!=\"0\": \n",
    "        a1=(x[1]+x[2]) \n",
    "        return(w1[int(x[0])]+\" \"+\"Hundred \"+\"and \"+num1wrd(a1)) \n",
    "    elif len(x)==3 and x[0]==\"0\": return(num1wrd(x[1]+x[2])+\" \") \n",
    "    else: return(num1wrd(x)) \n",
    "def seg3(s,out = []): \n",
    "    while len(s): \n",
    "        out.insert(0, s[-3:]) \n",
    "        s = s[:-3] \n",
    "    return out \n",
    "def q(x): \n",
    "    if x==\"000\":return(0) \n",
    "    elif x==\"00\":return(0) \n",
    "    elif x==\"0\":return(0) \n",
    "    else:return(1) \n",
    "aa,v={0:\"\",1:\"Thousand\",2:\"Million\",3:\"Billion\",4:\"Trillion\",5:\"Quadrillion\",6:\"Quintillion\",7:\"Hextillion\",8:\"Septillion\",9:\"Octillion\",10:\"Nonillion\",11:\"Decillion\",12:\"Undecillion\",13:\"Duodecillion\",15:\"Quattuordecillion\",16:\"Quindecillion\",17:\"Hexdecillion\",18:\"Septdecillion\",19:\"Octodecillion\",20:\"Novemdecillion\",21:\"Vigintillion\",14:\"Tredecillion\",22:\"Unvigintillion\",23:\"Duovigintillion\",24:\"Trevigintillion\",25:\"Quattuorvigintillion\",26:\"Quinvigintillion\",27:\"Hexvigintillion\",28:\"Septvigintillion\",29:\"Octovigintillion\",30:\"Novemvigintillion\",31:\"Trigintillion\",32:\"Untrigintillion\",33:\"Duotrigintillion\"},seg3(x) \n",
    "if int(x)==10**100: s=\"One Googol\" \n",
    "elif int(x)==0: s=\"Zero\" \n",
    "else: \n",
    "    s1=\"\" \n",
    "    for i in range(len(v)):s1=s1+(hun_num(v[i]))+(\" \"+aa[len(v)-1-i]+\", \")*q(v[i]) \n",
    "    s=s1[:len(s1)-3] \n",
    "print(\"》 \"+s+\".\")"
   ]
  },
  {
   "cell_type": "code",
   "execution_count": null,
   "id": "aecbce2f",
   "metadata": {},
   "outputs": [],
   "source": []
  }
 ],
 "metadata": {
  "kernelspec": {
   "display_name": "Python 3",
   "language": "python",
   "name": "python3"
  },
  "language_info": {
   "codemirror_mode": {
    "name": "ipython",
    "version": 3
   },
   "file_extension": ".py",
   "mimetype": "text/x-python",
   "name": "python",
   "nbconvert_exporter": "python",
   "pygments_lexer": "ipython3",
   "version": "3.8.8"
  }
 },
 "nbformat": 4,
 "nbformat_minor": 5
}
