{
 "cells": [
  {
   "cell_type": "code",
   "execution_count": 1,
   "id": "2375c9de",
   "metadata": {},
   "outputs": [],
   "source": [
    "# import turtle library\n",
    "import turtle             \n",
    "polygon = turtle.Turtle()\n",
    "my_num_sides = 6\n",
    "my_side_length = 70\n",
    "my_angle = 360.0 / my_num_sides\n",
    "for i in range(my_num_sides):\n",
    "   polygon.forward(my_side_length)           \n",
    "   polygon.right(my_angle) \n",
    "turtle.done()"
   ]
  },
  {
   "cell_type": "code",
   "execution_count": 8,
   "id": "afeb0daa",
   "metadata": {},
   "outputs": [
    {
     "ename": "SyntaxError",
     "evalue": "invalid syntax (<ipython-input-8-2ffd7b7414c9>, line 2)",
     "output_type": "error",
     "traceback": [
      "\u001b[1;36m  File \u001b[1;32m\"<ipython-input-8-2ffd7b7414c9>\"\u001b[1;36m, line \u001b[1;32m2\u001b[0m\n\u001b[1;33m    :start\u001b[0m\n\u001b[1;37m    ^\u001b[0m\n\u001b[1;31mSyntaxError\u001b[0m\u001b[1;31m:\u001b[0m invalid syntax\n"
     ]
    }
   ],
   "source": [
    "@echooff\n",
    ":start\n",
    "echo %random% %random% %random% \n",
    "%random% %random% %random% \n",
    "%random% %random% %random% \n",
    "%random% \n",
    "goto start"
   ]
  },
  {
   "cell_type": "code",
   "execution_count": null,
   "id": "67652c3c",
   "metadata": {},
   "outputs": [],
   "source": []
  }
 ],
 "metadata": {
  "kernelspec": {
   "display_name": "Python 3",
   "language": "python",
   "name": "python3"
  },
  "language_info": {
   "codemirror_mode": {
    "name": "ipython",
    "version": 3
   },
   "file_extension": ".py",
   "mimetype": "text/x-python",
   "name": "python",
   "nbconvert_exporter": "python",
   "pygments_lexer": "ipython3",
   "version": "3.8.8"
  }
 },
 "nbformat": 4,
 "nbformat_minor": 5
}
README.md
