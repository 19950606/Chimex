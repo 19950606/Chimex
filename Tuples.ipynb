{
 "cells": [
  {
   "cell_type": "markdown",
   "id": "f92aec21",
   "metadata": {},
   "source": [
    "# Tuples"
   ]
  },
  {
   "cell_type": "markdown",
   "id": "9c5a670e",
   "metadata": {},
   "source": [
    "Python tuples are a data structure that store an ordered sequence of values. Tuples are immutable. This means you cannot change the values in a tuple. Tuples are defined with parenthesis."
   ]
  },
  {
   "cell_type": "markdown",
   "id": "7bdbbe45",
   "metadata": {},
   "source": [
    "Tuples are a core data structure in Python. They let you store an ordered sequence of items. For example, you may use a tuple to store a list of employee names. You could use a tuple to store a list of ice cream flavors stocked at an ice cream shop."
   ]
  },
  {
   "cell_type": "markdown",
   "id": "cdef6223",
   "metadata": {},
   "source": [
    "A tuple is a comma-separated sequence of items. This sequence is surrounded by parenthesis (()). Let’s create a tuple:"
   ]
  },
  {
   "cell_type": "code",
   "execution_count": 1,
   "id": "4f3098e3",
   "metadata": {},
   "outputs": [],
   "source": [
    "ice_cream_flavors = ('Chocolate', 'Vanilla', 'Mint', 'Strawberry', 'Choc-Chip')"
   ]
  },
  {
   "cell_type": "markdown",
   "id": "aed08c38",
   "metadata": {},
   "source": [
    "When we print our tuple to the console using the print()function, we will see the tuple that we originally declared. The values in our tuple are separated by commas:"
   ]
  },
  {
   "cell_type": "markdown",
   "id": "661eb996",
   "metadata": {},
   "source": [
    "### How to Access Tuple Items"
   ]
  },
  {
   "cell_type": "code",
   "execution_count": 3,
   "id": "e8ed7528",
   "metadata": {},
   "outputs": [
    {
     "name": "stdout",
     "output_type": "stream",
     "text": [
      "('Chocolate', 'Vanilla', 'Mint', 'Strawberry', 'Choc-Chip')\n"
     ]
    }
   ],
   "source": [
    "print(ice_cream_flavors)"
   ]
  },
  {
   "cell_type": "markdown",
   "id": "24411e4a",
   "metadata": {},
   "source": [
    "Each item in a tuple has a unique index value, starting with zero. Index values continue in increments of one. You can access an individual item in a tuple by referencing the item’s index value."
   ]
  },
  {
   "cell_type": "code",
   "execution_count": 5,
   "id": "73a18c53",
   "metadata": {},
   "outputs": [
    {
     "name": "stdout",
     "output_type": "stream",
     "text": [
      "Strawberry\n"
     ]
    }
   ],
   "source": [
    "#we can access a single element individually. \n",
    "#The following code allows us to get the item at the index value 3:\n",
    "print(ice_cream_flavors[3])"
   ]
  },
  {
   "cell_type": "markdown",
   "id": "4b361326",
   "metadata": {},
   "source": [
    "Our code returns: Strawberry. Strawberry is the item whose index value is 3.\n",
    "\n",
    "Each item in a tuple has a negative index value. These values let us count backward from the end of a tuple. They start at -1. Using a negative index number may be more convenient if you are working with a long list. This is because you can work backwards from the end of the list."
   ]
  },
  {
   "cell_type": "code",
   "execution_count": 6,
   "id": "bf8ed579",
   "metadata": {},
   "outputs": [
    {
     "name": "stdout",
     "output_type": "stream",
     "text": [
      "Choc-Chip\n"
     ]
    }
   ],
   "source": [
    "#If we wanted to get the value at the index position of -1, we could use the following code:\n",
    "print(ice_cream_flavors[-1])"
   ]
  },
  {
   "cell_type": "markdown",
   "id": "e7d8159e",
   "metadata": {},
   "source": [
    "### Tuple Slicing"
   ]
  },
  {
   "cell_type": "markdown",
   "id": "f1a805d5",
   "metadata": {},
   "source": [
    "Similarly, if we want to get a range of items within our tuple, we can specify a range of indexes to retrieve. In order to do so, we need to specify where to start and end our range. We can use the following code to retrieve every item in the range of the 1 and 4 index values:"
   ]
  },
  {
   "cell_type": "code",
   "execution_count": 7,
   "id": "d2363c7c",
   "metadata": {},
   "outputs": [
    {
     "name": "stdout",
     "output_type": "stream",
     "text": [
      "('Vanilla', 'Mint', 'Strawberry')\n"
     ]
    }
   ],
   "source": [
    "print(ice_cream_flavors[1:4])"
   ]
  },
  {
   "cell_type": "markdown",
   "id": "497b16dd",
   "metadata": {},
   "source": [
    "Our code returns: (‘Vanilla’, ‘Mint’, ‘Strawberry’)\n",
    "\n",
    "In this example, our code returns every value with an index value between 1 and 4, exclusive of the last index value. Our code does not return Choc-Chip because Choc-Chip does not appear in the defined range."
   ]
  },
  {
   "cell_type": "markdown",
   "id": "12720c7f",
   "metadata": {},
   "source": [
    "### Conclusion"
   ]
  },
  {
   "cell_type": "markdown",
   "id": "66e40e30",
   "metadata": {},
   "source": [
    "The tuple data type is an immutable, ordered data type that allows you to store data in Python. Tuples are somewhat faster to use than lists in Python because they cannot be changed. As such, they’re useful if you need to store data that will not change."
   ]
  },
  {
   "cell_type": "code",
   "execution_count": null,
   "id": "d85d4960",
   "metadata": {},
   "outputs": [],
   "source": []
  }
 ],
 "metadata": {
  "kernelspec": {
   "display_name": "Python 3",
   "language": "python",
   "name": "python3"
  },
  "language_info": {
   "codemirror_mode": {
    "name": "ipython",
    "version": 3
   },
   "file_extension": ".py",
   "mimetype": "text/x-python",
   "name": "python",
   "nbconvert_exporter": "python",
   "pygments_lexer": "ipython3",
   "version": "3.8.8"
  }
 },
 "nbformat": 4,
 "nbformat_minor": 5
}
