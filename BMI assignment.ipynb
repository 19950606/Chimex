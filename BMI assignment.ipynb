{
 "cells": [
  {
   "cell_type": "code",
   "execution_count": 2,
   "id": "f5a5e8a2",
   "metadata": {},
   "outputs": [
    {
     "name": "stdout",
     "output_type": "stream",
     "text": [
      "Enter your height in cm: 300\n",
      "Enter your weight in kg: 50\n"
     ]
    }
   ],
   "source": [
    "height = float(input(\"Enter your height in cm: \"))\n",
    "weight = float(input(\"Enter your weight in kg: \"))\n"
   ]
  },
  {
   "cell_type": "code",
   "execution_count": 3,
   "id": "01d809dc",
   "metadata": {},
   "outputs": [
    {
     "name": "stdout",
     "output_type": "stream",
     "text": [
      "You BMI is 5.555555555555555\n",
      "You are underweight.\n"
     ]
    }
   ],
   "source": [
    "BMI = weight / (height/100)**2\n",
    "print(f\"You BMI is {BMI}\")\n",
    "if BMI <= 18.4:\n",
    "    print(\"You are underweight.\")\n",
    "elif BMI <= 24.9:\n",
    "    print(\"You are healthy.\")\n",
    "elif BMI <= 29.9:\n",
    "    print(\"You are over weight.\")\n",
    "elif BMI <= 34.9:\n",
    "    print(\"You are severely over weight.\")\n",
    "elif BMI <= 39.9:\n",
    "    print(\"You are obese.\")\n",
    "else:\n",
    "    print(\"You are severely obese.\")"
   ]
  },
  {
   "cell_type": "code",
   "execution_count": 4,
   "id": "eb3780e3",
   "metadata": {},
   "outputs": [],
   "source": [
    "fruits = [\"apple\", \"banana\", \"cherry\"]\n",
    "for x in fruits:\n",
    "  \n",
    "  if x == \"banana\":\n",
    "        continue\n",
    "        print(x) \n",
    "    \n"
   ]
  },
  {
   "cell_type": "code",
   "execution_count": null,
   "id": "a71ac1b1",
   "metadata": {},
   "outputs": [],
   "source": [
    "import numpy as np\n",
    "import matplotlib.pyplot as plt\n",
    "import random"
   ]
  },
  {
   "cell_type": "code",
   "execution_count": null,
   "id": "43d2ce7f",
   "metadata": {},
   "outputs": [],
   "source": [
    "operators=\"!@£$%^&*?+-#%{}[]<>,.\" \n",
    "num=\"1234567890\"\n",
    "chars = 'abcdefghijklmnopqrstuvwxyzABCDEFGHIJKLMNOPQRSTUVWXYZ'"
   ]
  },
  {
   "cell_type": "markdown",
   "id": "beb5d703",
   "metadata": {},
   "source": [
    "# Getting user name and Length of password"
   ]
  },
  {
   "cell_type": "code",
   "execution_count": null,
   "id": "934dee53",
   "metadata": {},
   "outputs": [],
   "source": [
    "def getUsername():\n",
    "    username=input(\"Enter your first name. \")\n",
    "    if username== '' or username.isalpha()==False :\n",
    "        print(\"The username can't be empty and should contain character.\")\n",
    "        username=getUsername()\n",
    "    return username\n",
    "def getPwLength():    \n",
    "    length=int(input(\"Enter the length of password \"))\n",
    "    if 8>length<16:\n",
    "        while(length<8):\n",
    "            print(\"The length of password must be greater or equal to 8 and less than 16 \")\n",
    "            length=int(input(\"Re-enter the length of password \"))\n",
    "    return length"
   ]
  },
  {
   "cell_type": "code",
   "execution_count": null,
   "id": "589e732f",
   "metadata": {},
   "outputs": [],
   "source": [
    "username=getUsername()\n",
    "length=getPwLength()"
   ]
  },
  {
   "cell_type": "code",
   "execution_count": null,
   "id": "a9791621",
   "metadata": {},
   "outputs": [],
   "source": [
    "print(length)"
   ]
  },
  {
   "cell_type": "markdown",
   "id": "c425c81f",
   "metadata": {},
   "source": [
    "# Characters must include to create strong password"
   ]
  },
  {
   "cell_type": "code",
   "execution_count": null,
   "id": "93754eb7",
   "metadata": {},
   "outputs": [],
   "source": [
    "pwd=operators+num+chars\n",
    "print(pwd)"
   ]
  },
  {
   "cell_type": "markdown",
   "id": "41333dcb",
   "metadata": {},
   "source": [
    "# Password generation"
   ]
  },
  {
   "cell_type": "code",
   "execution_count": null,
   "id": "adea8a4b",
   "metadata": {},
   "outputs": [],
   "source": [
    "def ConvertToList(string):\n",
    "    list1=[]\n",
    "    list1[:0]=string\n",
    "    return list1\n",
    "def ConvertToString(liste): \n",
    "    str1 = \"\" \n",
    "    return (str1.join(liste))"
   ]
  },
  {
   "cell_type": "code",
   "execution_count": null,
   "id": "7e201fbb",
   "metadata": {},
   "outputs": [],
   "source": [
    "pw=''\n",
    "for i in range(length-len(username)):\n",
    "    pw += random.choice(pwd)\n",
    "pw=username+pw\n",
    "print(pw)\n",
    "pword =ConvertToList(pw)\n",
    "print(\"Converting string to list type\",type(pword))\n",
    "print(pword)\n",
    "random.shuffle(pword)\n",
    "print(\"Suffled password\",pword)\n",
    "password=ConvertToString(pword)\n",
    "print(\"The final password having the username is\",password)"
   ]
  },
  {
   "cell_type": "code",
   "execution_count": null,
   "id": "eb4c59cc",
   "metadata": {},
   "outputs": [],
   "source": [
    "print(4*3)"
   ]
  },
  {
   "cell_type": "code",
   "execution_count": null,
   "id": "7387b231",
   "metadata": {},
   "outputs": [],
   "source": []
  }
 ],
 "metadata": {
  "kernelspec": {
   "display_name": "Python 3",
   "language": "python",
   "name": "python3"
  },
  "language_info": {
   "codemirror_mode": {
    "name": "ipython",
    "version": 3
   },
   "file_extension": ".py",
   "mimetype": "text/x-python",
   "name": "python",
   "nbconvert_exporter": "python",
   "pygments_lexer": "ipython3",
   "version": "3.8.8"
  }
 },
 "nbformat": 4,
 "nbformat_minor": 5
}
